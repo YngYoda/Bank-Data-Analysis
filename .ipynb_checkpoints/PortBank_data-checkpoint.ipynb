{
 "cells": [
  {
   "cell_type": "markdown",
   "metadata": {},
   "source": [
    "# Loading Data"
   ]
  },
  {
   "cell_type": "code",
   "execution_count": 1,
   "metadata": {},
   "outputs": [],
   "source": [
    "\n",
    "data <- read.csv(\"/Users/akan/Desktop/Stat_Training/train_x1.csv\", header=T)\n"
   ]
  },
  {
   "cell_type": "code",
   "execution_count": 2,
   "metadata": {},
   "outputs": [
    {
     "name": "stdout",
     "output_type": "stream",
     "text": [
      "'data.frame':\t41188 obs. of  22 variables:\n",
      " $ sno           : int  1 2 3 4 5 6 7 8 9 10 ...\n",
      " $ age           : int  56 57 37 40 56 45 59 41 24 25 ...\n",
      " $ job           : Factor w/ 12 levels \"admin.\",\"blue-collar\",..: 4 8 8 1 8 8 1 2 10 8 ...\n",
      " $ marital       : Factor w/ 4 levels \"divorced\",\"married\",..: 2 2 2 2 2 2 2 2 3 3 ...\n",
      " $ education     : Factor w/ 8 levels \"basic.4y\",\"basic.6y\",..: 1 4 4 2 4 3 6 8 6 4 ...\n",
      " $ default       : Factor w/ 3 levels \"no\",\"unknown\",..: 1 2 1 1 1 2 1 2 1 1 ...\n",
      " $ housing       : Factor w/ 3 levels \"no\",\"unknown\",..: 1 1 3 1 1 1 1 1 3 3 ...\n",
      " $ loan          : Factor w/ 3 levels \"no\",\"unknown\",..: 1 1 1 1 3 1 1 1 1 1 ...\n",
      " $ contact       : Factor w/ 2 levels \"cellular\",\"telephone\": 2 2 2 2 2 2 2 2 2 2 ...\n",
      " $ month         : Factor w/ 10 levels \"apr\",\"aug\",\"dec\",..: 7 7 7 7 7 7 7 7 7 7 ...\n",
      " $ day_of_week   : Factor w/ 5 levels \"fri\",\"mon\",\"thu\",..: 2 2 2 2 2 2 2 2 2 2 ...\n",
      " $ duration      : int  261 149 226 151 307 198 139 217 380 50 ...\n",
      " $ campaign      : int  1 1 1 1 1 1 1 1 1 1 ...\n",
      " $ pdays         : int  999 999 999 999 999 999 999 999 999 999 ...\n",
      " $ previous      : int  0 0 0 0 0 0 0 0 0 0 ...\n",
      " $ poutcome      : Factor w/ 3 levels \"failure\",\"nonexistent\",..: 2 2 2 2 2 2 2 2 2 2 ...\n",
      " $ emp.var.rate  : num  1.1 1.1 1.1 1.1 1.1 1.1 1.1 1.1 1.1 1.1 ...\n",
      " $ cons.price.idx: num  94 94 94 94 94 ...\n",
      " $ cons.conf.idx : num  -36.4 -36.4 -36.4 -36.4 -36.4 -36.4 -36.4 -36.4 -36.4 -36.4 ...\n",
      " $ euribor3m     : num  4.86 4.86 4.86 4.86 4.86 ...\n",
      " $ nr.employed   : num  5191 5191 5191 5191 5191 ...\n",
      " $ Outcome       : int  0 0 0 0 0 0 0 0 0 0 ...\n"
     ]
    }
   ],
   "source": [
    "str(data)\n",
    "newdata <- na.omit(data)\n"
   ]
  },
  {
   "cell_type": "code",
   "execution_count": 3,
   "metadata": {},
   "outputs": [],
   "source": [
    "data$age <- as.numeric(data$age)\n",
    "data$duration <- as.numeric(data$duration)\n",
    "data$campaign <- as.numeric(data$campaign)\n",
    "data$pdays <- as.numeric(data$pdays)\n",
    "data$previous <- as.numeric(data$previous)\n"
   ]
  },
  {
   "cell_type": "code",
   "execution_count": 4,
   "metadata": {},
   "outputs": [
    {
     "data": {
      "text/html": [
       "<ol class=list-inline>\n",
       "\t<li>'sno'</li>\n",
       "\t<li>'age'</li>\n",
       "\t<li>'job'</li>\n",
       "\t<li>'marital'</li>\n",
       "\t<li>'education'</li>\n",
       "\t<li>'default'</li>\n",
       "\t<li>'housing'</li>\n",
       "\t<li>'loan'</li>\n",
       "\t<li>'contact'</li>\n",
       "\t<li>'month'</li>\n",
       "\t<li>'day_of_week'</li>\n",
       "\t<li>'duration'</li>\n",
       "\t<li>'campaign'</li>\n",
       "\t<li>'pdays'</li>\n",
       "\t<li>'previous'</li>\n",
       "\t<li>'poutcome'</li>\n",
       "\t<li>'emp.var.rate'</li>\n",
       "\t<li>'cons.price.idx'</li>\n",
       "\t<li>'cons.conf.idx'</li>\n",
       "\t<li>'euribor3m'</li>\n",
       "\t<li>'nr.employed'</li>\n",
       "\t<li>'Outcome'</li>\n",
       "</ol>\n"
      ],
      "text/latex": [
       "\\begin{enumerate*}\n",
       "\\item 'sno'\n",
       "\\item 'age'\n",
       "\\item 'job'\n",
       "\\item 'marital'\n",
       "\\item 'education'\n",
       "\\item 'default'\n",
       "\\item 'housing'\n",
       "\\item 'loan'\n",
       "\\item 'contact'\n",
       "\\item 'month'\n",
       "\\item 'day\\_of\\_week'\n",
       "\\item 'duration'\n",
       "\\item 'campaign'\n",
       "\\item 'pdays'\n",
       "\\item 'previous'\n",
       "\\item 'poutcome'\n",
       "\\item 'emp.var.rate'\n",
       "\\item 'cons.price.idx'\n",
       "\\item 'cons.conf.idx'\n",
       "\\item 'euribor3m'\n",
       "\\item 'nr.employed'\n",
       "\\item 'Outcome'\n",
       "\\end{enumerate*}\n"
      ],
      "text/markdown": [
       "1. 'sno'\n",
       "2. 'age'\n",
       "3. 'job'\n",
       "4. 'marital'\n",
       "5. 'education'\n",
       "6. 'default'\n",
       "7. 'housing'\n",
       "8. 'loan'\n",
       "9. 'contact'\n",
       "10. 'month'\n",
       "11. 'day_of_week'\n",
       "12. 'duration'\n",
       "13. 'campaign'\n",
       "14. 'pdays'\n",
       "15. 'previous'\n",
       "16. 'poutcome'\n",
       "17. 'emp.var.rate'\n",
       "18. 'cons.price.idx'\n",
       "19. 'cons.conf.idx'\n",
       "20. 'euribor3m'\n",
       "21. 'nr.employed'\n",
       "22. 'Outcome'\n",
       "\n",
       "\n"
      ],
      "text/plain": [
       " [1] \"sno\"            \"age\"            \"job\"            \"marital\"       \n",
       " [5] \"education\"      \"default\"        \"housing\"        \"loan\"          \n",
       " [9] \"contact\"        \"month\"          \"day_of_week\"    \"duration\"      \n",
       "[13] \"campaign\"       \"pdays\"          \"previous\"       \"poutcome\"      \n",
       "[17] \"emp.var.rate\"   \"cons.price.idx\" \"cons.conf.idx\"  \"euribor3m\"     \n",
       "[21] \"nr.employed\"    \"Outcome\"       "
      ]
     },
     "metadata": {},
     "output_type": "display_data"
    }
   ],
   "source": [
    "names(data)"
   ]
  },
  {
   "cell_type": "markdown",
   "metadata": {},
   "source": [
    "# Linear Models with Variables"
   ]
  },
  {
   "cell_type": "markdown",
   "metadata": {},
   "source": [
    "## Age"
   ]
  },
  {
   "cell_type": "code",
   "execution_count": 5,
   "metadata": {},
   "outputs": [
    {
     "data": {
      "text/plain": [
       "\n",
       "Call:\n",
       "lm(formula = Outcome ~ age, data = data)\n",
       "\n",
       "Residuals:\n",
       "    Min      1Q  Median      3Q     Max \n",
       "-0.1634 -0.1182 -0.1089 -0.1034  0.9086 \n",
       "\n",
       "Coefficients:\n",
       "             Estimate Std. Error t value Pr(>|t|)    \n",
       "(Intercept) 0.0757408  0.0061801  12.256  < 2e-16 ***\n",
       "age         0.0009223  0.0001494   6.172  6.8e-10 ***\n",
       "---\n",
       "Signif. codes:  0 ‘***’ 0.001 ‘**’ 0.01 ‘*’ 0.05 ‘.’ 0.1 ‘ ’ 1\n",
       "\n",
       "Residual standard error: 0.316 on 41186 degrees of freedom\n",
       "Multiple R-squared:  0.0009241,\tAdjusted R-squared:  0.0008998 \n",
       "F-statistic: 38.09 on 1 and 41186 DF,  p-value: 6.802e-10\n"
      ]
     },
     "metadata": {},
     "output_type": "display_data"
    }
   ],
   "source": [
    "mod2 <- lm(Outcome ~ age, data=data)\n",
    "summary(mod2)"
   ]
  },
  {
   "cell_type": "markdown",
   "metadata": {},
   "source": [
    "# Job"
   ]
  },
  {
   "cell_type": "code",
   "execution_count": 6,
   "metadata": {},
   "outputs": [
    {
     "data": {
      "text/plain": [
       "\n",
       "Call:\n",
       "lm(formula = Outcome ~ job, data = data)\n",
       "\n",
       "Residuals:\n",
       "     Min       1Q   Median       3Q      Max \n",
       "-0.31429 -0.12973 -0.10826 -0.06894  0.93106 \n",
       "\n",
       "Coefficients:\n",
       "                  Estimate Std. Error t value Pr(>|t|)    \n",
       "(Intercept)       0.129726   0.003061  42.379  < 2e-16 ***\n",
       "jobblue-collar   -0.060782   0.004464 -13.617  < 2e-16 ***\n",
       "jobentrepreneur  -0.044561   0.008743  -5.097 3.47e-07 ***\n",
       "jobhousemaid     -0.029726   0.010075  -2.950  0.00317 ** \n",
       "jobmanagement    -0.017550   0.006540  -2.684  0.00729 ** \n",
       "jobretired        0.122600   0.008133  15.074  < 2e-16 ***\n",
       "jobself-employed -0.024870   0.008837  -2.814  0.00489 ** \n",
       "jobservices      -0.048345   0.005829  -8.294  < 2e-16 ***\n",
       "jobstudent        0.184560   0.010999  16.780  < 2e-16 ***\n",
       "jobtechnician    -0.021465   0.004884  -4.395 1.11e-05 ***\n",
       "jobunemployed     0.012286   0.010280   1.195  0.23204    \n",
       "jobunknown       -0.017604   0.017473  -1.008  0.31369    \n",
       "---\n",
       "Signif. codes:  0 ‘***’ 0.001 ‘**’ 0.01 ‘*’ 0.05 ‘.’ 0.1 ‘ ’ 1\n",
       "\n",
       "Residual standard error: 0.3125 on 41176 degrees of freedom\n",
       "Multiple R-squared:  0.02334,\tAdjusted R-squared:  0.02308 \n",
       "F-statistic: 89.45 on 11 and 41176 DF,  p-value: < 2.2e-16\n"
      ]
     },
     "metadata": {},
     "output_type": "display_data"
    }
   ],
   "source": [
    "mod3 <- lm(Outcome ~ job, data=data)\n",
    "summary(mod3)"
   ]
  },
  {
   "cell_type": "markdown",
   "metadata": {},
   "source": [
    "# Marital"
   ]
  },
  {
   "cell_type": "code",
   "execution_count": null,
   "metadata": {},
   "outputs": [],
   "source": [
    "relevel(data$marital,\"single\")"
   ]
  },
  {
   "cell_type": "code",
   "execution_count": null,
   "metadata": {},
   "outputs": [],
   "source": [
    "factor(data$marital <- relevel(data$marital , ref=\"single\"))"
   ]
  },
  {
   "cell_type": "code",
   "execution_count": 9,
   "metadata": {},
   "outputs": [
    {
     "data": {
      "text/plain": [
       "\n",
       "Call:\n",
       "glm(formula = Outcome ~ factor(marital), family = \"binomial\", \n",
       "    data = data)\n",
       "\n",
       "Deviance Residuals: \n",
       "    Min       1Q   Median       3Q      Max  \n",
       "-0.5701  -0.4668  -0.4628  -0.4628   2.1387  \n",
       "\n",
       "Coefficients:\n",
       "                        Estimate Std. Error z value Pr(>|z|)    \n",
       "(Intercept)             -1.81495    0.02679 -67.742  < 2e-16 ***\n",
       "factor(marital)divorced -0.34712    0.05532  -6.275  3.5e-10 ***\n",
       "factor(marital)married  -0.36493    0.03402 -10.727  < 2e-16 ***\n",
       "factor(marital)unknown   0.08034    0.31426   0.256    0.798    \n",
       "---\n",
       "Signif. codes:  0 ‘***’ 0.001 ‘**’ 0.01 ‘*’ 0.05 ‘.’ 0.1 ‘ ’ 1\n",
       "\n",
       "(Dispersion parameter for binomial family taken to be 1)\n",
       "\n",
       "    Null deviance: 28999  on 41187  degrees of freedom\n",
       "Residual deviance: 28881  on 41184  degrees of freedom\n",
       "AIC: 28889\n",
       "\n",
       "Number of Fisher Scoring iterations: 4\n"
      ]
     },
     "metadata": {},
     "output_type": "display_data"
    }
   ],
   "source": [
    "mod4 <- glm(Outcome ~ factor(marital),family=\"binomial\", data=data)\n",
    "summary(mod4)"
   ]
  },
  {
   "cell_type": "markdown",
   "metadata": {},
   "source": [
    "# Education"
   ]
  },
  {
   "cell_type": "code",
   "execution_count": 10,
   "metadata": {},
   "outputs": [
    {
     "data": {
      "text/plain": [
       "\n",
       "Call:\n",
       "glm(formula = Outcome ~ education, family = \"binomial\", data = data)\n",
       "\n",
       "Deviance Residuals: \n",
       "    Min       1Q   Median       3Q      Max  \n",
       "-0.7090  -0.5434  -0.4789  -0.4137   2.2574  \n",
       "\n",
       "Coefficients:\n",
       "                             Estimate Std. Error z value Pr(>|z|)    \n",
       "(Intercept)                  -2.16985    0.05102 -42.528  < 2e-16 ***\n",
       "educationbasic.6y            -0.24530    0.09164  -2.677  0.00743 ** \n",
       "educationbasic.9y            -0.29656    0.06998  -4.238 2.26e-05 ***\n",
       "educationhigh.school          0.06220    0.06075   1.024  0.30592    \n",
       "educationilliterate           0.91709    0.56924   1.611  0.10716    \n",
       "educationprofessional.course  0.11422    0.06708   1.703  0.08858 .  \n",
       "educationuniversity.degree    0.33149    0.05742   5.773 7.79e-09 ***\n",
       "educationunknown              0.39551    0.08522   4.641 3.47e-06 ***\n",
       "---\n",
       "Signif. codes:  0 ‘***’ 0.001 ‘**’ 0.01 ‘*’ 0.05 ‘.’ 0.1 ‘ ’ 1\n",
       "\n",
       "(Dispersion parameter for binomial family taken to be 1)\n",
       "\n",
       "    Null deviance: 28999  on 41187  degrees of freedom\n",
       "Residual deviance: 28802  on 41180  degrees of freedom\n",
       "AIC: 28818\n",
       "\n",
       "Number of Fisher Scoring iterations: 5\n"
      ]
     },
     "metadata": {},
     "output_type": "display_data"
    }
   ],
   "source": [
    "mod5 <- glm(Outcome ~ education, family=\"binomial\",data=data)\n",
    "summary(mod5)"
   ]
  },
  {
   "cell_type": "markdown",
   "metadata": {},
   "source": [
    "# Default"
   ]
  },
  {
   "cell_type": "code",
   "execution_count": 11,
   "metadata": {},
   "outputs": [
    {
     "data": {
      "text/plain": [
       "\n",
       "Call:\n",
       "glm(formula = Outcome ~ default, family = \"binomial\", data = data)\n",
       "\n",
       "Deviance Residuals: \n",
       "    Min       1Q   Median       3Q      Max  \n",
       "-0.5251  -0.5251  -0.5251  -0.3253   2.4354  \n",
       "\n",
       "Coefficients:\n",
       "               Estimate Std. Error  z value Pr(>|z|)    \n",
       "(Intercept)    -1.91170    0.01654 -115.598   <2e-16 ***\n",
       "defaultunknown -1.00099    0.05151  -19.432   <2e-16 ***\n",
       "defaultyes     -8.65433   68.97491   -0.125      0.9    \n",
       "---\n",
       "Signif. codes:  0 ‘***’ 0.001 ‘**’ 0.01 ‘*’ 0.05 ‘.’ 0.1 ‘ ’ 1\n",
       "\n",
       "(Dispersion parameter for binomial family taken to be 1)\n",
       "\n",
       "    Null deviance: 28999  on 41187  degrees of freedom\n",
       "Residual deviance: 28523  on 41185  degrees of freedom\n",
       "AIC: 28529\n",
       "\n",
       "Number of Fisher Scoring iterations: 9\n"
      ]
     },
     "metadata": {},
     "output_type": "display_data"
    }
   ],
   "source": [
    "mod6 <- glm(Outcome ~ default, family=\"binomial\",data=data)\n",
    "summary(mod6)"
   ]
  },
  {
   "cell_type": "markdown",
   "metadata": {},
   "source": [
    "# Housing"
   ]
  },
  {
   "cell_type": "code",
   "execution_count": 12,
   "metadata": {},
   "outputs": [
    {
     "data": {
      "text/plain": [
       "\n",
       "Call:\n",
       "glm(formula = Outcome ~ housing, family = \"binomial\", data = data)\n",
       "\n",
       "Deviance Residuals: \n",
       "   Min      1Q  Median      3Q     Max  \n",
       "-0.497  -0.497  -0.480  -0.480   2.109  \n",
       "\n",
       "Coefficients:\n",
       "                Estimate Std. Error z value Pr(>|z|)    \n",
       "(Intercept)    -2.103098   0.023533 -89.368   <2e-16 ***\n",
       "housingunknown -0.007398   0.105030  -0.070   0.9438    \n",
       "housingyes      0.074121   0.031704   2.338   0.0194 *  \n",
       "---\n",
       "Signif. codes:  0 ‘***’ 0.001 ‘**’ 0.01 ‘*’ 0.05 ‘.’ 0.1 ‘ ’ 1\n",
       "\n",
       "(Dispersion parameter for binomial family taken to be 1)\n",
       "\n",
       "    Null deviance: 28999  on 41187  degrees of freedom\n",
       "Residual deviance: 28993  on 41185  degrees of freedom\n",
       "AIC: 28999\n",
       "\n",
       "Number of Fisher Scoring iterations: 4\n"
      ]
     },
     "metadata": {},
     "output_type": "display_data"
    }
   ],
   "source": [
    "mod7 <- glm(Outcome ~ housing, family=\"binomial\",data=data)\n",
    "summary(mod7)"
   ]
  },
  {
   "cell_type": "markdown",
   "metadata": {},
   "source": [
    "# Contact"
   ]
  },
  {
   "cell_type": "code",
   "execution_count": 13,
   "metadata": {},
   "outputs": [
    {
     "data": {
      "text/plain": [
       "\n",
       "Call:\n",
       "glm(formula = Outcome ~ contact, family = \"binomial\", data = data)\n",
       "\n",
       "Deviance Residuals: \n",
       "    Min       1Q   Median       3Q      Max  \n",
       "-0.5647  -0.5647  -0.5647  -0.3278   2.4292  \n",
       "\n",
       "Coefficients:\n",
       "                 Estimate Std. Error z value Pr(>|z|)    \n",
       "(Intercept)      -1.75533    0.01745 -100.61   <2e-16 ***\n",
       "contacttelephone -1.14144    0.04056  -28.14   <2e-16 ***\n",
       "---\n",
       "Signif. codes:  0 ‘***’ 0.001 ‘**’ 0.01 ‘*’ 0.05 ‘.’ 0.1 ‘ ’ 1\n",
       "\n",
       "(Dispersion parameter for binomial family taken to be 1)\n",
       "\n",
       "    Null deviance: 28999  on 41187  degrees of freedom\n",
       "Residual deviance: 28039  on 41186  degrees of freedom\n",
       "AIC: 28043\n",
       "\n",
       "Number of Fisher Scoring iterations: 5\n"
      ]
     },
     "metadata": {},
     "output_type": "display_data"
    }
   ],
   "source": [
    "mod8 <- glm(Outcome ~ contact, family=\"binomial\",data=data)\n",
    "summary(mod8)"
   ]
  },
  {
   "cell_type": "markdown",
   "metadata": {},
   "source": [
    "# Month"
   ]
  },
  {
   "cell_type": "code",
   "execution_count": 14,
   "metadata": {},
   "outputs": [
    {
     "data": {
      "text/plain": [
       "\n",
       "Call:\n",
       "glm(formula = Outcome ~ month, family = \"binomial\", data = data)\n",
       "\n",
       "Deviance Residuals: \n",
       "    Min       1Q   Median       3Q      Max  \n",
       "-1.1868  -0.4713  -0.4355  -0.3647   2.3424  \n",
       "\n",
       "Coefficients:\n",
       "            Estimate Std. Error z value Pr(>|z|)    \n",
       "(Intercept) -1.35664    0.04830 -28.087   <2e-16 ***\n",
       "monthaug    -0.77540    0.06357 -12.198   <2e-16 ***\n",
       "monthdec     1.31268    0.15595   8.417   <2e-16 ***\n",
       "monthjul    -0.95133    0.06346 -14.991   <2e-16 ***\n",
       "monthjun    -0.78501    0.06582 -11.927   <2e-16 ***\n",
       "monthmar     1.37862    0.09829  14.027   <2e-16 ***\n",
       "monthmay    -1.32031    0.05949 -22.193   <2e-16 ***\n",
       "monthnov    -0.82470    0.07077 -11.653   <2e-16 ***\n",
       "monthoct     1.11027    0.08938  12.422   <2e-16 ***\n",
       "monthsep     1.15242    0.09708  11.871   <2e-16 ***\n",
       "---\n",
       "Signif. codes:  0 ‘***’ 0.001 ‘**’ 0.01 ‘*’ 0.05 ‘.’ 0.1 ‘ ’ 1\n",
       "\n",
       "(Dispersion parameter for binomial family taken to be 1)\n",
       "\n",
       "    Null deviance: 28999  on 41187  degrees of freedom\n",
       "Residual deviance: 26823  on 41178  degrees of freedom\n",
       "AIC: 26843\n",
       "\n",
       "Number of Fisher Scoring iterations: 5\n"
      ]
     },
     "metadata": {},
     "output_type": "display_data"
    }
   ],
   "source": [
    "mod9 <- glm(Outcome ~ month, family=\"binomial\",data=data)\n",
    "summary(mod9)"
   ]
  },
  {
   "cell_type": "markdown",
   "metadata": {},
   "source": [
    "# Day of week"
   ]
  },
  {
   "cell_type": "code",
   "execution_count": 15,
   "metadata": {},
   "outputs": [
    {
     "data": {
      "text/plain": [
       "\n",
       "Call:\n",
       "glm(formula = Outcome ~ day_of_week, family = \"binomial\", data = data)\n",
       "\n",
       "Deviance Residuals: \n",
       "    Min       1Q   Median       3Q      Max  \n",
       "-0.5083  -0.5007  -0.4981  -0.4578   2.1484  \n",
       "\n",
       "Coefficients:\n",
       "               Estimate Std. Error z value Pr(>|z|)    \n",
       "(Intercept)    -2.11043    0.03640 -57.974  < 2e-16 ***\n",
       "day_of_weekmon -0.09255    0.05134  -1.803  0.07144 .  \n",
       "day_of_weekthu  0.12920    0.04913   2.629  0.00855 ** \n",
       "day_of_weektue  0.09700    0.05015   1.934  0.05308 .  \n",
       "day_of_weekwed  0.08609    0.05018   1.716  0.08625 .  \n",
       "---\n",
       "Signif. codes:  0 ‘***’ 0.001 ‘**’ 0.01 ‘*’ 0.05 ‘.’ 0.1 ‘ ’ 1\n",
       "\n",
       "(Dispersion parameter for binomial family taken to be 1)\n",
       "\n",
       "    Null deviance: 28999  on 41187  degrees of freedom\n",
       "Residual deviance: 28972  on 41183  degrees of freedom\n",
       "AIC: 28982\n",
       "\n",
       "Number of Fisher Scoring iterations: 4\n"
      ]
     },
     "metadata": {},
     "output_type": "display_data"
    }
   ],
   "source": [
    "mod10 <- glm(Outcome ~ day_of_week, family=\"binomial\",data=data)\n",
    "summary(mod10)"
   ]
  },
  {
   "cell_type": "markdown",
   "metadata": {},
   "source": [
    "# Duration"
   ]
  },
  {
   "cell_type": "code",
   "execution_count": 16,
   "metadata": {},
   "outputs": [
    {
     "data": {
      "text/plain": [
       "\n",
       "Call:\n",
       "glm(formula = Outcome ~ duration, family = \"binomial\", data = data)\n",
       "\n",
       "Deviance Residuals: \n",
       "    Min       1Q   Median       3Q      Max  \n",
       "-5.4201  -0.4261  -0.3492  -0.3067   2.5296  \n",
       "\n",
       "Coefficients:\n",
       "              Estimate Std. Error z value Pr(>|z|)    \n",
       "(Intercept) -3.293e+00  2.827e-02 -116.47   <2e-16 ***\n",
       "duration     3.656e-03  5.852e-05   62.48   <2e-16 ***\n",
       "---\n",
       "Signif. codes:  0 ‘***’ 0.001 ‘**’ 0.01 ‘*’ 0.05 ‘.’ 0.1 ‘ ’ 1\n",
       "\n",
       "(Dispersion parameter for binomial family taken to be 1)\n",
       "\n",
       "    Null deviance: 28999  on 41187  degrees of freedom\n",
       "Residual deviance: 24106  on 41186  degrees of freedom\n",
       "AIC: 24110\n",
       "\n",
       "Number of Fisher Scoring iterations: 5\n"
      ]
     },
     "metadata": {},
     "output_type": "display_data"
    }
   ],
   "source": [
    "mod11 <- glm(Outcome ~ duration, family=\"binomial\",data=data)\n",
    "summary(mod11)"
   ]
  },
  {
   "cell_type": "code",
   "execution_count": 17,
   "metadata": {},
   "outputs": [
    {
     "data": {
      "text/plain": [
       "\n",
       "Call:\n",
       "glm(formula = Outcome ~ campaign, family = \"binomial\", data = data)\n",
       "\n",
       "Deviance Residuals: \n",
       "    Min       1Q   Median       3Q      Max  \n",
       "-0.5275  -0.5275  -0.4974  -0.4416   3.0566  \n",
       "\n",
       "Coefficients:\n",
       "             Estimate Std. Error z value Pr(>|z|)    \n",
       "(Intercept) -1.776717   0.024716  -71.89   <2e-16 ***\n",
       "campaign    -0.125440   0.009192  -13.65   <2e-16 ***\n",
       "---\n",
       "Signif. codes:  0 ‘***’ 0.001 ‘**’ 0.01 ‘*’ 0.05 ‘.’ 0.1 ‘ ’ 1\n",
       "\n",
       "(Dispersion parameter for binomial family taken to be 1)\n",
       "\n",
       "    Null deviance: 28999  on 41187  degrees of freedom\n",
       "Residual deviance: 28748  on 41186  degrees of freedom\n",
       "AIC: 28752\n",
       "\n",
       "Number of Fisher Scoring iterations: 5\n"
      ]
     },
     "metadata": {},
     "output_type": "display_data"
    }
   ],
   "source": [
    "mod12 <- glm(Outcome ~ campaign, family=\"binomial\",data=data)\n",
    "summary(mod12)"
   ]
  },
  {
   "cell_type": "markdown",
   "metadata": {},
   "source": [
    "# pdays"
   ]
  },
  {
   "cell_type": "code",
   "execution_count": 18,
   "metadata": {},
   "outputs": [
    {
     "data": {
      "text/plain": [
       "\n",
       "Call:\n",
       "glm(formula = Outcome ~ pdays, family = \"binomial\", data = data)\n",
       "\n",
       "Deviance Residuals: \n",
       "    Min       1Q   Median       3Q      Max  \n",
       "-1.4340  -0.4408  -0.4408  -0.4408   2.1816  \n",
       "\n",
       "Coefficients:\n",
       "              Estimate Std. Error z value Pr(>|z|)    \n",
       "(Intercept)  0.5854465  0.0537958   10.88   <2e-16 ***\n",
       "pdays       -0.0028708  0.0000566  -50.72   <2e-16 ***\n",
       "---\n",
       "Signif. codes:  0 ‘***’ 0.001 ‘**’ 0.01 ‘*’ 0.05 ‘.’ 0.1 ‘ ’ 1\n",
       "\n",
       "(Dispersion parameter for binomial family taken to be 1)\n",
       "\n",
       "    Null deviance: 28999  on 41187  degrees of freedom\n",
       "Residual deviance: 26458  on 41186  degrees of freedom\n",
       "AIC: 26462\n",
       "\n",
       "Number of Fisher Scoring iterations: 5\n"
      ]
     },
     "metadata": {},
     "output_type": "display_data"
    }
   ],
   "source": [
    "mod13 <- glm(Outcome ~ pdays, family=\"binomial\",data=data)\n",
    "summary(mod13)"
   ]
  },
  {
   "cell_type": "markdown",
   "metadata": {},
   "source": [
    "# Poutcome"
   ]
  },
  {
   "cell_type": "code",
   "execution_count": 19,
   "metadata": {},
   "outputs": [
    {
     "data": {
      "text/plain": [
       "\n",
       "Call:\n",
       "glm(formula = Outcome ~ poutcome, family = \"binomial\", data = data)\n",
       "\n",
       "Deviance Residuals: \n",
       "   Min      1Q  Median      3Q     Max  \n",
       "-1.451  -0.430  -0.430  -0.430   2.203  \n",
       "\n",
       "Coefficients:\n",
       "                    Estimate Std. Error z value Pr(>|z|)    \n",
       "(Intercept)         -1.79643    0.04390  -40.92   <2e-16 ***\n",
       "poutcomenonexistent -0.53786    0.04771  -11.27   <2e-16 ***\n",
       "poutcomesuccess      2.42044    0.07165   33.78   <2e-16 ***\n",
       "---\n",
       "Signif. codes:  0 ‘***’ 0.001 ‘**’ 0.01 ‘*’ 0.05 ‘.’ 0.1 ‘ ’ 1\n",
       "\n",
       "(Dispersion parameter for binomial family taken to be 1)\n",
       "\n",
       "    Null deviance: 28999  on 41187  degrees of freedom\n",
       "Residual deviance: 26496  on 41185  degrees of freedom\n",
       "AIC: 26502\n",
       "\n",
       "Number of Fisher Scoring iterations: 5\n"
      ]
     },
     "metadata": {},
     "output_type": "display_data"
    }
   ],
   "source": [
    "mod14 <- glm(Outcome ~ poutcome, family=\"binomial\",data=data)\n",
    "summary(mod14)"
   ]
  },
  {
   "cell_type": "markdown",
   "metadata": {},
   "source": [
    "# Logistic Regression model"
   ]
  },
  {
   "cell_type": "code",
   "execution_count": 20,
   "metadata": {},
   "outputs": [
    {
     "data": {
      "text/plain": [
       "\n",
       "Call:\n",
       "glm(formula = Outcome ~ age + job + marital + education + default + \n",
       "    housing + contact + duration + campaign + pdays + poutcome, \n",
       "    family = \"binomial\", data = data)\n",
       "\n",
       "Deviance Residuals: \n",
       "    Min       1Q   Median       3Q      Max  \n",
       "-5.6999  -0.3847  -0.2712  -0.1731   3.0805  \n",
       "\n",
       "Coefficients:\n",
       "                               Estimate Std. Error z value Pr(>|z|)    \n",
       "(Intercept)                  -1.448e+00  2.297e-01  -6.303 2.92e-10 ***\n",
       "age                           1.144e-02  2.279e-03   5.018 5.22e-07 ***\n",
       "jobblue-collar               -4.057e-01  7.457e-02  -5.440 5.32e-08 ***\n",
       "jobentrepreneur              -3.966e-01  1.176e-01  -3.373 0.000743 ***\n",
       "jobhousemaid                 -9.644e-02  1.366e-01  -0.706 0.480132    \n",
       "jobmanagement                -1.974e-01  7.947e-02  -2.484 0.012977 *  \n",
       "jobretired                    7.164e-01  9.663e-02   7.414 1.23e-13 ***\n",
       "jobself-employed             -1.947e-01  1.108e-01  -1.757 0.078916 .  \n",
       "jobservices                  -2.762e-01  8.077e-02  -3.420 0.000627 ***\n",
       "jobstudent                    9.428e-01  1.050e-01   8.977  < 2e-16 ***\n",
       "jobtechnician                -1.655e-01  6.523e-02  -2.537 0.011182 *  \n",
       "jobunemployed                 2.782e-01  1.173e-01   2.371 0.017744 *  \n",
       "jobunknown                    4.894e-02  2.248e-01   0.218 0.827686    \n",
       "maritaldivorced              -3.279e-01  7.199e-02  -4.554 5.26e-06 ***\n",
       "maritalmarried               -2.477e-01  4.775e-02  -5.187 2.13e-07 ***\n",
       "maritalunknown               -3.196e-01  3.881e-01  -0.823 0.410248    \n",
       "educationbasic.6y             3.059e-03  1.143e-01   0.027 0.978641    \n",
       "educationbasic.9y            -1.547e-01  8.917e-02  -1.735 0.082682 .  \n",
       "educationhigh.school         -5.408e-02  8.616e-02  -0.628 0.530190    \n",
       "educationilliterate           9.940e-01  6.842e-01   1.453 0.146265    \n",
       "educationprofessional.course  7.865e-02  9.486e-02   0.829 0.407037    \n",
       "educationuniversity.degree    1.985e-01  8.578e-02   2.315 0.020638 *  \n",
       "educationunknown              2.780e-01  1.110e-01   2.504 0.012263 *  \n",
       "defaultunknown               -8.171e-01  6.247e-02 -13.081  < 2e-16 ***\n",
       "defaultyes                   -8.797e+00  1.134e+02  -0.078 0.938160    \n",
       "housingunknown                3.104e-02  1.293e-01   0.240 0.810274    \n",
       "housingyes                    1.201e-02  3.849e-02   0.312 0.754990    \n",
       "contacttelephone             -9.225e-01  4.931e-02 -18.706  < 2e-16 ***\n",
       "duration                      4.143e-03  6.632e-05  62.479  < 2e-16 ***\n",
       "campaign                     -9.661e-02  1.122e-02  -8.611  < 2e-16 ***\n",
       "pdays                        -1.730e-03  1.971e-04  -8.778  < 2e-16 ***\n",
       "poutcomenonexistent          -2.400e-01  5.777e-02  -4.155 3.25e-05 ***\n",
       "poutcomesuccess               7.444e-01  1.983e-01   3.753 0.000175 ***\n",
       "---\n",
       "Signif. codes:  0 ‘***’ 0.001 ‘**’ 0.01 ‘*’ 0.05 ‘.’ 0.1 ‘ ’ 1\n",
       "\n",
       "(Dispersion parameter for binomial family taken to be 1)\n",
       "\n",
       "    Null deviance: 28999  on 41187  degrees of freedom\n",
       "Residual deviance: 19927  on 41155  degrees of freedom\n",
       "AIC: 19993\n",
       "\n",
       "Number of Fisher Scoring iterations: 10\n"
      ]
     },
     "metadata": {},
     "output_type": "display_data"
    }
   ],
   "source": [
    "mod <- glm(Outcome ~ age + job + marital + education+ \n",
    "default+housing+contact+duration+campaign+pdays+poutcome , family=\"binomial\", data= data)\n",
    "summary(mod)"
   ]
  },
  {
   "cell_type": "markdown",
   "metadata": {},
   "source": [
    "# Odds Ratio"
   ]
  },
  {
   "cell_type": "code",
   "execution_count": 21,
   "metadata": {},
   "outputs": [
    {
     "name": "stderr",
     "output_type": "stream",
     "text": [
      "Waiting for profiling to be done...\n",
      "Warning message:\n",
      "“glm.fit: fitted probabilities numerically 0 or 1 occurred”Warning message:\n",
      "“glm.fit: fitted probabilities numerically 0 or 1 occurred”Warning message:\n",
      "“glm.fit: fitted probabilities numerically 0 or 1 occurred”Warning message:\n",
      "“glm.fit: fitted probabilities numerically 0 or 1 occurred”Warning message:\n",
      "“glm.fit: fitted probabilities numerically 0 or 1 occurred”Warning message:\n",
      "“glm.fit: fitted probabilities numerically 0 or 1 occurred”Warning message:\n",
      "“glm.fit: fitted probabilities numerically 0 or 1 occurred”Warning message:\n",
      "“glm.fit: fitted probabilities numerically 0 or 1 occurred”Warning message:\n",
      "“glm.fit: fitted probabilities numerically 0 or 1 occurred”Warning message:\n",
      "“glm.fit: fitted probabilities numerically 0 or 1 occurred”"
     ]
    },
    {
     "data": {
      "text/html": [
       "<table>\n",
       "<thead><tr><th></th><th scope=col>OR</th><th scope=col>2.5 %</th><th scope=col>97.5 %</th></tr></thead>\n",
       "<tbody>\n",
       "\t<tr><th scope=row>(Intercept)</th><td>0.2350298692</td><td>0.1496879   </td><td>  0.3686477 </td></tr>\n",
       "\t<tr><th scope=row>age</th><td>1.0115011098</td><td>1.0069894   </td><td>  1.0160259 </td></tr>\n",
       "\t<tr><th scope=row>jobblue-collar</th><td>0.6665393478</td><td>0.5757291   </td><td>  0.7712103 </td></tr>\n",
       "\t<tr><th scope=row>jobentrepreneur</th><td>0.6726130099</td><td>0.5319080   </td><td>  0.8435421 </td></tr>\n",
       "\t<tr><th scope=row>jobhousemaid</th><td>0.9080614175</td><td>0.6913335   </td><td>  1.1812516 </td></tr>\n",
       "\t<tr><th scope=row>jobmanagement</th><td>0.8208430434</td><td>0.7015454   </td><td>  0.9580068 </td></tr>\n",
       "\t<tr><th scope=row>jobretired</th><td>2.0470859028</td><td>1.6929044   </td><td>  2.4726530 </td></tr>\n",
       "\t<tr><th scope=row>jobself-employed</th><td>0.8230726753</td><td>0.6600167   </td><td>  1.0193097 </td></tr>\n",
       "\t<tr><th scope=row>jobservices</th><td>0.7586767488</td><td>0.6468540   </td><td>  0.8878385 </td></tr>\n",
       "\t<tr><th scope=row>jobstudent</th><td>2.5670489162</td><td>2.0872733   </td><td>  3.1506139 </td></tr>\n",
       "\t<tr><th scope=row>jobtechnician</th><td>0.8474844448</td><td>0.7454552   </td><td>  0.9626718 </td></tr>\n",
       "\t<tr><th scope=row>jobunemployed</th><td>1.3207040806</td><td>1.0457435   </td><td>  1.6567056 </td></tr>\n",
       "\t<tr><th scope=row>jobunknown</th><td>1.0501575682</td><td>0.6655057   </td><td>  1.6090590 </td></tr>\n",
       "\t<tr><th scope=row>maritaldivorced</th><td>0.7204656972</td><td>0.6251708   </td><td>  0.8290398 </td></tr>\n",
       "\t<tr><th scope=row>maritalmarried</th><td>0.7805944614</td><td>0.7109261   </td><td>  0.8572757 </td></tr>\n",
       "\t<tr><th scope=row>maritalunknown</th><td>0.7264725634</td><td>0.3229300   </td><td>  1.4925492 </td></tr>\n",
       "\t<tr><th scope=row>educationbasic.6y</th><td>1.0030640040</td><td>0.8004800   </td><td>  1.2530340 </td></tr>\n",
       "\t<tr><th scope=row>educationbasic.9y</th><td>0.8566345235</td><td>0.7194583   </td><td>  1.0205783 </td></tr>\n",
       "\t<tr><th scope=row>educationhigh.school</th><td>0.9473524663</td><td>0.8006041   </td><td>  1.1223230 </td></tr>\n",
       "\t<tr><th scope=row>educationilliterate</th><td>2.7020271892</td><td>0.6266991   </td><td>  9.4416072 </td></tr>\n",
       "\t<tr><th scope=row>educationprofessional.course</th><td>1.0818298347</td><td>0.8984608   </td><td>  1.3032283 </td></tr>\n",
       "\t<tr><th scope=row>educationuniversity.degree</th><td>1.2196162450</td><td>1.0316155   </td><td>  1.4439928 </td></tr>\n",
       "\t<tr><th scope=row>educationunknown</th><td>1.3204872950</td><td>1.0613023   </td><td>  1.6400550 </td></tr>\n",
       "\t<tr><th scope=row>defaultunknown</th><td>0.4417101220</td><td>0.3903381   </td><td>  0.4986580 </td></tr>\n",
       "\t<tr><th scope=row>defaultyes</th><td>0.0001511878</td><td>       NA   </td><td>402.7128639 </td></tr>\n",
       "\t<tr><th scope=row>housingunknown</th><td>1.0315305085</td><td>0.7963152   </td><td>  1.3223813 </td></tr>\n",
       "\t<tr><th scope=row>housingyes</th><td>1.0120833581</td><td>0.9385864   </td><td>  1.0914456 </td></tr>\n",
       "\t<tr><th scope=row>contacttelephone</th><td>0.3975254019</td><td>0.3606769   </td><td>  0.4376059 </td></tr>\n",
       "\t<tr><th scope=row>duration</th><td>1.0041520761</td><td>1.0040223   </td><td>  1.0042833 </td></tr>\n",
       "\t<tr><th scope=row>campaign</th><td>0.9079085850</td><td>0.8878574   </td><td>  0.9277695 </td></tr>\n",
       "\t<tr><th scope=row>pdays</th><td>0.9982713573</td><td>0.9978857   </td><td>  0.9986581 </td></tr>\n",
       "\t<tr><th scope=row>poutcomenonexistent</th><td>0.7866041544</td><td>0.7029420   </td><td>  0.8816231 </td></tr>\n",
       "\t<tr><th scope=row>poutcomesuccess</th><td>2.1050742268</td><td>1.4271849   </td><td>  3.1085882 </td></tr>\n",
       "</tbody>\n",
       "</table>\n"
      ],
      "text/latex": [
       "\\begin{tabular}{r|lll}\n",
       "  & OR & 2.5 \\% & 97.5 \\%\\\\\n",
       "\\hline\n",
       "\t(Intercept) & 0.2350298692 & 0.1496879    &   0.3686477 \\\\\n",
       "\tage & 1.0115011098 & 1.0069894    &   1.0160259 \\\\\n",
       "\tjobblue-collar & 0.6665393478 & 0.5757291    &   0.7712103 \\\\\n",
       "\tjobentrepreneur & 0.6726130099 & 0.5319080    &   0.8435421 \\\\\n",
       "\tjobhousemaid & 0.9080614175 & 0.6913335    &   1.1812516 \\\\\n",
       "\tjobmanagement & 0.8208430434 & 0.7015454    &   0.9580068 \\\\\n",
       "\tjobretired & 2.0470859028 & 1.6929044    &   2.4726530 \\\\\n",
       "\tjobself-employed & 0.8230726753 & 0.6600167    &   1.0193097 \\\\\n",
       "\tjobservices & 0.7586767488 & 0.6468540    &   0.8878385 \\\\\n",
       "\tjobstudent & 2.5670489162 & 2.0872733    &   3.1506139 \\\\\n",
       "\tjobtechnician & 0.8474844448 & 0.7454552    &   0.9626718 \\\\\n",
       "\tjobunemployed & 1.3207040806 & 1.0457435    &   1.6567056 \\\\\n",
       "\tjobunknown & 1.0501575682 & 0.6655057    &   1.6090590 \\\\\n",
       "\tmaritaldivorced & 0.7204656972 & 0.6251708    &   0.8290398 \\\\\n",
       "\tmaritalmarried & 0.7805944614 & 0.7109261    &   0.8572757 \\\\\n",
       "\tmaritalunknown & 0.7264725634 & 0.3229300    &   1.4925492 \\\\\n",
       "\teducationbasic.6y & 1.0030640040 & 0.8004800    &   1.2530340 \\\\\n",
       "\teducationbasic.9y & 0.8566345235 & 0.7194583    &   1.0205783 \\\\\n",
       "\teducationhigh.school & 0.9473524663 & 0.8006041    &   1.1223230 \\\\\n",
       "\teducationilliterate & 2.7020271892 & 0.6266991    &   9.4416072 \\\\\n",
       "\teducationprofessional.course & 1.0818298347 & 0.8984608    &   1.3032283 \\\\\n",
       "\teducationuniversity.degree & 1.2196162450 & 1.0316155    &   1.4439928 \\\\\n",
       "\teducationunknown & 1.3204872950 & 1.0613023    &   1.6400550 \\\\\n",
       "\tdefaultunknown & 0.4417101220 & 0.3903381    &   0.4986580 \\\\\n",
       "\tdefaultyes & 0.0001511878 &        NA    & 402.7128639 \\\\\n",
       "\thousingunknown & 1.0315305085 & 0.7963152    &   1.3223813 \\\\\n",
       "\thousingyes & 1.0120833581 & 0.9385864    &   1.0914456 \\\\\n",
       "\tcontacttelephone & 0.3975254019 & 0.3606769    &   0.4376059 \\\\\n",
       "\tduration & 1.0041520761 & 1.0040223    &   1.0042833 \\\\\n",
       "\tcampaign & 0.9079085850 & 0.8878574    &   0.9277695 \\\\\n",
       "\tpdays & 0.9982713573 & 0.9978857    &   0.9986581 \\\\\n",
       "\tpoutcomenonexistent & 0.7866041544 & 0.7029420    &   0.8816231 \\\\\n",
       "\tpoutcomesuccess & 2.1050742268 & 1.4271849    &   3.1085882 \\\\\n",
       "\\end{tabular}\n"
      ],
      "text/markdown": [
       "\n",
       "| <!--/--> | OR | 2.5 % | 97.5 % | \n",
       "|---|---|---|---|---|---|---|---|---|---|---|---|---|---|---|---|---|---|---|---|---|---|---|---|---|---|---|---|---|---|---|---|---|\n",
       "| (Intercept) | 0.2350298692 | 0.1496879    |   0.3686477  | \n",
       "| age | 1.0115011098 | 1.0069894    |   1.0160259  | \n",
       "| jobblue-collar | 0.6665393478 | 0.5757291    |   0.7712103  | \n",
       "| jobentrepreneur | 0.6726130099 | 0.5319080    |   0.8435421  | \n",
       "| jobhousemaid | 0.9080614175 | 0.6913335    |   1.1812516  | \n",
       "| jobmanagement | 0.8208430434 | 0.7015454    |   0.9580068  | \n",
       "| jobretired | 2.0470859028 | 1.6929044    |   2.4726530  | \n",
       "| jobself-employed | 0.8230726753 | 0.6600167    |   1.0193097  | \n",
       "| jobservices | 0.7586767488 | 0.6468540    |   0.8878385  | \n",
       "| jobstudent | 2.5670489162 | 2.0872733    |   3.1506139  | \n",
       "| jobtechnician | 0.8474844448 | 0.7454552    |   0.9626718  | \n",
       "| jobunemployed | 1.3207040806 | 1.0457435    |   1.6567056  | \n",
       "| jobunknown | 1.0501575682 | 0.6655057    |   1.6090590  | \n",
       "| maritaldivorced | 0.7204656972 | 0.6251708    |   0.8290398  | \n",
       "| maritalmarried | 0.7805944614 | 0.7109261    |   0.8572757  | \n",
       "| maritalunknown | 0.7264725634 | 0.3229300    |   1.4925492  | \n",
       "| educationbasic.6y | 1.0030640040 | 0.8004800    |   1.2530340  | \n",
       "| educationbasic.9y | 0.8566345235 | 0.7194583    |   1.0205783  | \n",
       "| educationhigh.school | 0.9473524663 | 0.8006041    |   1.1223230  | \n",
       "| educationilliterate | 2.7020271892 | 0.6266991    |   9.4416072  | \n",
       "| educationprofessional.course | 1.0818298347 | 0.8984608    |   1.3032283  | \n",
       "| educationuniversity.degree | 1.2196162450 | 1.0316155    |   1.4439928  | \n",
       "| educationunknown | 1.3204872950 | 1.0613023    |   1.6400550  | \n",
       "| defaultunknown | 0.4417101220 | 0.3903381    |   0.4986580  | \n",
       "| defaultyes | 0.0001511878 |        NA    | 402.7128639  | \n",
       "| housingunknown | 1.0315305085 | 0.7963152    |   1.3223813  | \n",
       "| housingyes | 1.0120833581 | 0.9385864    |   1.0914456  | \n",
       "| contacttelephone | 0.3975254019 | 0.3606769    |   0.4376059  | \n",
       "| duration | 1.0041520761 | 1.0040223    |   1.0042833  | \n",
       "| campaign | 0.9079085850 | 0.8878574    |   0.9277695  | \n",
       "| pdays | 0.9982713573 | 0.9978857    |   0.9986581  | \n",
       "| poutcomenonexistent | 0.7866041544 | 0.7029420    |   0.8816231  | \n",
       "| poutcomesuccess | 2.1050742268 | 1.4271849    |   3.1085882  | \n",
       "\n",
       "\n"
      ],
      "text/plain": [
       "                             OR           2.5 %     97.5 %     \n",
       "(Intercept)                  0.2350298692 0.1496879   0.3686477\n",
       "age                          1.0115011098 1.0069894   1.0160259\n",
       "jobblue-collar               0.6665393478 0.5757291   0.7712103\n",
       "jobentrepreneur              0.6726130099 0.5319080   0.8435421\n",
       "jobhousemaid                 0.9080614175 0.6913335   1.1812516\n",
       "jobmanagement                0.8208430434 0.7015454   0.9580068\n",
       "jobretired                   2.0470859028 1.6929044   2.4726530\n",
       "jobself-employed             0.8230726753 0.6600167   1.0193097\n",
       "jobservices                  0.7586767488 0.6468540   0.8878385\n",
       "jobstudent                   2.5670489162 2.0872733   3.1506139\n",
       "jobtechnician                0.8474844448 0.7454552   0.9626718\n",
       "jobunemployed                1.3207040806 1.0457435   1.6567056\n",
       "jobunknown                   1.0501575682 0.6655057   1.6090590\n",
       "maritaldivorced              0.7204656972 0.6251708   0.8290398\n",
       "maritalmarried               0.7805944614 0.7109261   0.8572757\n",
       "maritalunknown               0.7264725634 0.3229300   1.4925492\n",
       "educationbasic.6y            1.0030640040 0.8004800   1.2530340\n",
       "educationbasic.9y            0.8566345235 0.7194583   1.0205783\n",
       "educationhigh.school         0.9473524663 0.8006041   1.1223230\n",
       "educationilliterate          2.7020271892 0.6266991   9.4416072\n",
       "educationprofessional.course 1.0818298347 0.8984608   1.3032283\n",
       "educationuniversity.degree   1.2196162450 1.0316155   1.4439928\n",
       "educationunknown             1.3204872950 1.0613023   1.6400550\n",
       "defaultunknown               0.4417101220 0.3903381   0.4986580\n",
       "defaultyes                   0.0001511878        NA 402.7128639\n",
       "housingunknown               1.0315305085 0.7963152   1.3223813\n",
       "housingyes                   1.0120833581 0.9385864   1.0914456\n",
       "contacttelephone             0.3975254019 0.3606769   0.4376059\n",
       "duration                     1.0041520761 1.0040223   1.0042833\n",
       "campaign                     0.9079085850 0.8878574   0.9277695\n",
       "pdays                        0.9982713573 0.9978857   0.9986581\n",
       "poutcomenonexistent          0.7866041544 0.7029420   0.8816231\n",
       "poutcomesuccess              2.1050742268 1.4271849   3.1085882"
      ]
     },
     "metadata": {},
     "output_type": "display_data"
    }
   ],
   "source": [
    "or=exp(cbind(OR=coef(mod),confint(mod)))\n",
    "or\n",
    "\n"
   ]
  },
  {
   "cell_type": "code",
   "execution_count": 25,
   "metadata": {},
   "outputs": [
    {
     "name": "stderr",
     "output_type": "stream",
     "text": [
      "also installing the dependency ‘XML’\n",
      "\n",
      "Warning message in install.packages(\"rattle\"):\n",
      "“installation of package ‘XML’ had non-zero exit status”Warning message in install.packages(\"rattle\"):\n",
      "“installation of package ‘rattle’ had non-zero exit status”Updating HTML index of packages in '.Library'\n",
      "Making 'packages.html' ... done\n"
     ]
    }
   ],
   "source": [
    "install.packages(\"rattle\")"
   ]
  },
  {
   "cell_type": "code",
   "execution_count": 23,
   "metadata": {},
   "outputs": [
    {
     "name": "stderr",
     "output_type": "stream",
     "text": [
      "also installing the dependencies ‘XML’, ‘rpart.plot’\n",
      "\n",
      "Warning message in install.packages(\"rattle\"):\n",
      "“installation of package ‘XML’ had non-zero exit status”Warning message in install.packages(\"rattle\"):\n",
      "“installation of package ‘rattle’ had non-zero exit status”Updating HTML index of packages in '.Library'\n",
      "Making 'packages.html' ... done\n",
      "Updating HTML index of packages in '.Library'\n",
      "Making 'packages.html' ... done\n"
     ]
    }
   ],
   "source": [
    "install.packages(\"rattle\")\n",
    "install.packages(\"caret\")"
   ]
  },
  {
   "cell_type": "code",
   "execution_count": 28,
   "metadata": {
    "scrolled": false
   },
   "outputs": [
    {
     "name": "stdout",
     "output_type": "stream",
     "text": [
      "Call:\n",
      "rpart(formula = Outcome ~ ., data = data)\n",
      "  n= 41188 \n",
      "\n",
      "          CP nsplit rel error    xerror        xstd\n",
      "1 0.15142102      0 1.0000000 1.0000722 0.012074069\n",
      "2 0.12450531      1 0.8485790 0.8490672 0.010487751\n",
      "3 0.05470816      2 0.7240737 0.7300904 0.008398359\n",
      "4 0.01653404      3 0.6693655 0.6781997 0.008673682\n",
      "5 0.01293544      4 0.6528315 0.6576059 0.008249652\n",
      "6 0.01110416      5 0.6398960 0.6422652 0.008184716\n",
      "7 0.01000000      6 0.6287919 0.6364957 0.007968117\n",
      "\n",
      "Variable importance\n",
      "      duration    nr.employed            sno      euribor3m  cons.conf.idx \n",
      "            21             16             16             14             10 \n",
      "  emp.var.rate cons.price.idx          month          pdays       poutcome \n",
      "            10              7              2              1              1 \n",
      "\n",
      "Node number 1: 41188 observations,    complexity param=0.151421\n",
      "  mean=0.1126542, MSE=0.09996321 \n",
      "  left son=2 (36224 obs) right son=3 (4964 obs)\n",
      "  Primary splits:\n",
      "      sno         < 36224.5 to the left,  improve=0.1514210, (0 missing)\n",
      "      nr.employed < 5087.65 to the right, improve=0.1514210, (0 missing)\n",
      "      euribor3m   < 1.2395  to the right, improve=0.1372610, (0 missing)\n",
      "      duration    < 524.5   to the left,  improve=0.1360504, (0 missing)\n",
      "      pdays       < 513     to the right, improve=0.1055449, (0 missing)\n",
      "  Surrogate splits:\n",
      "      nr.employed    < 5087.65 to the right, agree=1.000, adj=1.000, (0 split)\n",
      "      euribor3m      < 1.2395  to the right, agree=0.984, adj=0.867, (0 split)\n",
      "      emp.var.rate   < -2.35   to the right, agree=0.950, adj=0.585, (0 split)\n",
      "      cons.conf.idx  < -35.45  to the left,  agree=0.943, adj=0.530, (0 split)\n",
      "      cons.price.idx < 92.7345 to the right, agree=0.933, adj=0.441, (0 split)\n",
      "\n",
      "Node number 2: 36224 observations,    complexity param=0.1245053\n",
      "  mean=0.0671102, MSE=0.06260642 \n",
      "  left son=4 (33232 obs) right son=5 (2992 obs)\n",
      "  Primary splits:\n",
      "      duration      < 606.5   to the left,  improve=0.22603900, (0 missing)\n",
      "      month         splits as  RLLLLRLLR-,  improve=0.03027032, (0 missing)\n",
      "      cons.conf.idx < -46.65  to the right, improve=0.02568755, (0 missing)\n",
      "      sno           < 27689.5 to the left,  improve=0.01829090, (0 missing)\n",
      "      euribor3m     < 3.1675  to the right, improve=0.01829090, (0 missing)\n",
      "\n",
      "Node number 3: 4964 observations,    complexity param=0.05470816\n",
      "  mean=0.445004, MSE=0.2469754 \n",
      "  left son=6 (1891 obs) right son=7 (3073 obs)\n",
      "  Primary splits:\n",
      "      duration < 172.5   to the left,  improve=0.18372890, (0 missing)\n",
      "      pdays    < 16.5    to the right, improve=0.08916796, (0 missing)\n",
      "      poutcome splits as  LLR,         improve=0.08876688, (0 missing)\n",
      "      sno      < 38392.5 to the left,  improve=0.02482121, (0 missing)\n",
      "      previous < 0.5     to the left,  improve=0.01977755, (0 missing)\n",
      "  Surrogate splits:\n",
      "      education splits as  RRRRLRRR,    agree=0.62, adj=0.002, (0 split)\n",
      "      euribor3m < 1.2745  to the right, agree=0.62, adj=0.002, (0 split)\n",
      "\n",
      "Node number 4: 33232 observations,    complexity param=0.01653404\n",
      "  mean=0.0314155, MSE=0.03042857 \n",
      "  left son=8 (30696 obs) right son=9 (2536 obs)\n",
      "  Primary splits:\n",
      "      month          splits as  RLLLLRLLR-,  improve=0.06732121, (0 missing)\n",
      "      cons.conf.idx  < -46.65  to the right, improve=0.05693326, (0 missing)\n",
      "      duration       < 446.5   to the left,  improve=0.05140443, (0 missing)\n",
      "      cons.price.idx < 92.868  to the right, improve=0.04447761, (0 missing)\n",
      "      euribor3m      < 3.1675  to the right, improve=0.03196657, (0 missing)\n",
      "  Surrogate splits:\n",
      "      cons.conf.idx  < -46.65  to the right, agree=0.998, adj=0.976, (0 split)\n",
      "      cons.price.idx < 92.868  to the right, agree=0.932, adj=0.103, (0 split)\n",
      "      age            < 60.5    to the left,  agree=0.927, adj=0.039, (0 split)\n",
      "      pdays          < 2.5     to the right, agree=0.924, adj=0.007, (0 split)\n",
      "      euribor3m      < 4.985   to the left,  agree=0.924, adj=0.005, (0 split)\n",
      "\n",
      "Node number 5: 2992 observations\n",
      "  mean=0.4635695, MSE=0.2486728 \n",
      "\n",
      "Node number 6: 1891 observations\n",
      "  mean=0.1734532, MSE=0.1433672 \n",
      "\n",
      "Node number 7: 3073 observations,    complexity param=0.01293544\n",
      "  mean=0.6121054, MSE=0.2374324 \n",
      "  left son=14 (2173 obs) right son=15 (900 obs)\n",
      "  Primary splits:\n",
      "      pdays          < 16.5    to the right, improve=0.07299440, (0 missing)\n",
      "      poutcome       splits as  LLR,         improve=0.07189900, (0 missing)\n",
      "      sno            < 38391   to the left,  improve=0.02551037, (0 missing)\n",
      "      duration       < 250.5   to the left,  improve=0.02279616, (0 missing)\n",
      "      cons.price.idx < 93.166  to the left,  improve=0.02066156, (0 missing)\n",
      "  Surrogate splits:\n",
      "      poutcome splits as  LLR,         agree=0.971, adj=0.901, (0 split)\n",
      "      previous < 0.5     to the left,  agree=0.797, adj=0.308, (0 split)\n",
      "      age      < 91.5    to the left,  agree=0.708, adj=0.002, (0 split)\n",
      "\n",
      "Node number 8: 30696 observations,    complexity param=0.01110416\n",
      "  mean=0.01840631, MSE=0.01806751 \n",
      "  left son=16 (29104 obs) right son=17 (1592 obs)\n",
      "  Primary splits:\n",
      "      duration  < 472.5   to the left,  improve=0.082435940, (0 missing)\n",
      "      sno       < 35825.5 to the left,  improve=0.022573080, (0 missing)\n",
      "      pdays     < 11.5    to the right, improve=0.011876320, (0 missing)\n",
      "      poutcome  splits as  LLR,         improve=0.009857066, (0 missing)\n",
      "      euribor3m < 1.2755  to the right, improve=0.009510639, (0 missing)\n",
      "\n",
      "Node number 9: 2536 observations\n",
      "  mean=0.1888801, MSE=0.1532044 \n",
      "\n",
      "Node number 14: 2173 observations\n",
      "  mean=0.5273815, MSE=0.2492503 \n",
      "\n",
      "Node number 15: 900 observations\n",
      "  mean=0.8166667, MSE=0.1497222 \n",
      "\n",
      "Node number 16: 29104 observations\n",
      "  mean=0.009380154, MSE=0.009292167 \n",
      "\n",
      "Node number 17: 1592 observations\n",
      "  mean=0.1834171, MSE=0.1497753 \n",
      "\n"
     ]
    }
   ],
   "source": [
    "library(rpart) \n",
    "library(rpart.plot) \n",
    "\n",
    "library(caret)\n",
    "model<- rpart(Outcome ~ ., data = data) \n",
    "summary(model)"
   ]
  },
  {
   "cell_type": "code",
   "execution_count": null,
   "metadata": {},
   "outputs": [],
   "source": []
  }
 ],
 "metadata": {
  "kernelspec": {
   "display_name": "R",
   "language": "R",
   "name": "ir"
  },
  "language_info": {
   "codemirror_mode": "r",
   "file_extension": ".r",
   "mimetype": "text/x-r-source",
   "name": "R",
   "pygments_lexer": "r",
   "version": "3.4.3"
  }
 },
 "nbformat": 4,
 "nbformat_minor": 2
}
